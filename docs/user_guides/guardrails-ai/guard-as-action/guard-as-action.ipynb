{
 "cells": [
  {
   "cell_type": "markdown",
   "id": "bda9eda8b4566a0d",
   "metadata": {
    "collapsed": false
   },
   "source": [
    "# Guard as Actions\n",
    "\n",
    "This guide will teach you how to use a `Guard` as an action inside a guardrails configuration. "
   ]
  },
  {
   "cell_type": "code",
   "execution_count": 22,
   "id": "a5ddc8b17af62afa",
   "metadata": {
    "ExecuteTime": {
     "end_time": "2024-01-25T14:27:11.284164Z",
     "start_time": "2024-01-25T14:27:11.025161Z"
    },
    "collapsed": false
   },
   "outputs": [],
   "source": [
    "# Init: remove any existing configuration\n",
    "!rm -r config\n",
    "!mkdir config"
   ]
  },
  {
   "cell_type": "markdown",
   "id": "724db36201c3d409",
   "metadata": {
    "collapsed": false
   },
   "source": [
    "## Prerequisites\n",
    "\n",
    "Set up an OpenAI API key, if not already set."
   ]
  },
  {
   "cell_type": "code",
   "execution_count": 23,
   "id": "4e52b23b90077cf4",
   "metadata": {
    "ExecuteTime": {
     "end_time": "2024-01-25T14:27:11.418023Z",
     "start_time": "2024-01-25T14:27:11.286549Z"
    },
    "collapsed": false
   },
   "outputs": [],
   "source": [
    "!export OPENAI_API_KEY=$OPENAI_API_KEY    # Replace with your own key"
   ]
  },
  {
   "cell_type": "markdown",
   "id": "4b6fb59034bcb2bb",
   "metadata": {
    "collapsed": false
   },
   "source": [
    "If you're running this inside a notebook, you also need to patch the AsyncIO loop."
   ]
  },
  {
   "cell_type": "code",
   "execution_count": 24,
   "id": "7ba19d5c8bdc57a3",
   "metadata": {
    "ExecuteTime": {
     "end_time": "2024-01-25T14:27:13.693091Z",
     "start_time": "2024-01-25T14:27:13.686555Z"
    },
    "collapsed": false
   },
   "outputs": [],
   "source": [
    "import nest_asyncio\n",
    "\n",
    "nest_asyncio.apply()"
   ]
  },
  {
   "cell_type": "markdown",
   "id": "b8b27d3fa09bbe91",
   "metadata": {
    "collapsed": false
   },
   "source": [
    "## Sample Runnable\n",
    "\n",
    "Let's create a sample Guard that can detect PII."
   ]
  },
  {
   "cell_type": "code",
   "execution_count": 25,
   "id": "5925945d",
   "metadata": {},
   "outputs": [
    {
     "name": "stdout",
     "output_type": "stream",
     "text": [
      "Requirement already satisfied: guardrails-ai in ./.venv/lib/python3.11/site-packages (0.5.13)\n",
      "Requirement already satisfied: coloredlogs<16.0.0,>=15.0.1 in ./.venv/lib/python3.11/site-packages (from guardrails-ai) (15.0.1)\n",
      "Requirement already satisfied: diff-match-patch<20230431,>=20230430 in ./.venv/lib/python3.11/site-packages (from guardrails-ai) (20230430)\n",
      "Requirement already satisfied: faker<26.0.0,>=25.2.0 in ./.venv/lib/python3.11/site-packages (from guardrails-ai) (25.9.2)\n",
      "Requirement already satisfied: griffe<0.37.0,>=0.36.9 in ./.venv/lib/python3.11/site-packages (from guardrails-ai) (0.36.9)\n",
      "Requirement already satisfied: guardrails-api-client>=0.3.13 in ./.venv/lib/python3.11/site-packages (from guardrails-ai) (0.3.13)\n",
      "Requirement already satisfied: guardrails-hub-types<0.0.5,>=0.0.4 in ./.venv/lib/python3.11/site-packages (from guardrails-ai) (0.0.4)\n",
      "Requirement already satisfied: jsonref<2.0.0,>=1.1.0 in ./.venv/lib/python3.11/site-packages (from guardrails-ai) (1.1.0)\n",
      "Requirement already satisfied: jsonschema[format]<5.0.0,>=4.22.0 in ./.venv/lib/python3.11/site-packages (from guardrails-ai) (4.23.0)\n",
      "Requirement already satisfied: langchain-core<0.4,>=0.1 in ./.venv/lib/python3.11/site-packages (from guardrails-ai) (0.3.12)\n",
      "Requirement already satisfied: litellm<2.0.0,>=1.37.14 in ./.venv/lib/python3.11/site-packages (from guardrails-ai) (1.49.6)\n",
      "Requirement already satisfied: lxml<5.0.0,>=4.9.3 in ./.venv/lib/python3.11/site-packages (from guardrails-ai) (4.9.4)\n",
      "Requirement already satisfied: nltk<=3.8.1,>3.0 in ./.venv/lib/python3.11/site-packages (from guardrails-ai) (3.8.1)\n",
      "Requirement already satisfied: openai<2.0.0,>=1.30.1 in ./.venv/lib/python3.11/site-packages (from guardrails-ai) (1.52.0)\n",
      "Requirement already satisfied: opentelemetry-exporter-otlp-proto-grpc<2.0.0,>=1.24.0 in ./.venv/lib/python3.11/site-packages (from guardrails-ai) (1.27.0)\n",
      "Requirement already satisfied: opentelemetry-exporter-otlp-proto-http<2.0.0,>=1.24.0 in ./.venv/lib/python3.11/site-packages (from guardrails-ai) (1.27.0)\n",
      "Requirement already satisfied: opentelemetry-sdk<2.0.0,>=1.24.0 in ./.venv/lib/python3.11/site-packages (from guardrails-ai) (1.27.0)\n",
      "Requirement already satisfied: pip>=22 in ./.venv/lib/python3.11/site-packages (from guardrails-ai) (23.2.1)\n",
      "Requirement already satisfied: pydantic<3.0,>=2.0.0 in ./.venv/lib/python3.11/site-packages (from guardrails-ai) (2.9.2)\n",
      "Requirement already satisfied: pydash<8.0.0,>=7.0.6 in ./.venv/lib/python3.11/site-packages (from guardrails-ai) (7.0.7)\n",
      "Requirement already satisfied: pyjwt<3.0.0,>=2.8.0 in ./.venv/lib/python3.11/site-packages (from guardrails-ai) (2.9.0)\n",
      "Requirement already satisfied: python-dateutil<3.0.0,>=2.8.2 in ./.venv/lib/python3.11/site-packages (from guardrails-ai) (2.9.0.post0)\n",
      "Requirement already satisfied: regex<2024.0.0,>=2023.10.3 in ./.venv/lib/python3.11/site-packages (from guardrails-ai) (2023.12.25)\n",
      "Requirement already satisfied: requests<3.0.0,>=2.31.0 in ./.venv/lib/python3.11/site-packages (from guardrails-ai) (2.32.3)\n",
      "Requirement already satisfied: rich<14.0.0,>=13.6.0 in ./.venv/lib/python3.11/site-packages (from guardrails-ai) (13.9.2)\n",
      "Requirement already satisfied: rstr<4.0.0,>=3.2.2 in ./.venv/lib/python3.11/site-packages (from guardrails-ai) (3.2.2)\n",
      "Requirement already satisfied: semver<4.0.0,>=3.0.2 in ./.venv/lib/python3.11/site-packages (from guardrails-ai) (3.0.2)\n",
      "Requirement already satisfied: tenacity>=8.1.0 in ./.venv/lib/python3.11/site-packages (from guardrails-ai) (8.5.0)\n",
      "Requirement already satisfied: tiktoken>=0.5.1 in ./.venv/lib/python3.11/site-packages (from guardrails-ai) (0.8.0)\n",
      "Requirement already satisfied: typer[all]<0.13,>=0.9.0 in ./.venv/lib/python3.11/site-packages (from guardrails-ai) (0.12.5)\n",
      "Requirement already satisfied: typing-extensions<5.0.0,>=4.8.0 in ./.venv/lib/python3.11/site-packages (from guardrails-ai) (4.12.2)\n",
      "Requirement already satisfied: humanfriendly>=9.1 in ./.venv/lib/python3.11/site-packages (from coloredlogs<16.0.0,>=15.0.1->guardrails-ai) (10.0)\n",
      "Requirement already satisfied: colorama>=0.4 in ./.venv/lib/python3.11/site-packages (from griffe<0.37.0,>=0.36.9->guardrails-ai) (0.4.6)\n",
      "Requirement already satisfied: setuptools>=21.0.0 in ./.venv/lib/python3.11/site-packages (from guardrails-api-client>=0.3.13->guardrails-ai) (65.5.0)\n",
      "Requirement already satisfied: urllib3<2.1.0,>=1.25.3 in ./.venv/lib/python3.11/site-packages (from guardrails-api-client>=0.3.13->guardrails-ai) (2.0.7)\n",
      "Requirement already satisfied: attrs>=22.2.0 in ./.venv/lib/python3.11/site-packages (from jsonschema[format]<5.0.0,>=4.22.0->guardrails-ai) (24.2.0)\n",
      "Requirement already satisfied: jsonschema-specifications>=2023.03.6 in ./.venv/lib/python3.11/site-packages (from jsonschema[format]<5.0.0,>=4.22.0->guardrails-ai) (2024.10.1)\n",
      "Requirement already satisfied: referencing>=0.28.4 in ./.venv/lib/python3.11/site-packages (from jsonschema[format]<5.0.0,>=4.22.0->guardrails-ai) (0.35.1)\n",
      "Requirement already satisfied: rpds-py>=0.7.1 in ./.venv/lib/python3.11/site-packages (from jsonschema[format]<5.0.0,>=4.22.0->guardrails-ai) (0.20.0)\n",
      "Requirement already satisfied: fqdn in ./.venv/lib/python3.11/site-packages (from jsonschema[format]<5.0.0,>=4.22.0->guardrails-ai) (1.5.1)\n",
      "Requirement already satisfied: idna in ./.venv/lib/python3.11/site-packages (from jsonschema[format]<5.0.0,>=4.22.0->guardrails-ai) (3.10)\n",
      "Requirement already satisfied: isoduration in ./.venv/lib/python3.11/site-packages (from jsonschema[format]<5.0.0,>=4.22.0->guardrails-ai) (20.11.0)\n",
      "Requirement already satisfied: jsonpointer>1.13 in ./.venv/lib/python3.11/site-packages (from jsonschema[format]<5.0.0,>=4.22.0->guardrails-ai) (3.0.0)\n",
      "Requirement already satisfied: rfc3339-validator in ./.venv/lib/python3.11/site-packages (from jsonschema[format]<5.0.0,>=4.22.0->guardrails-ai) (0.1.4)\n",
      "Requirement already satisfied: rfc3987 in ./.venv/lib/python3.11/site-packages (from jsonschema[format]<5.0.0,>=4.22.0->guardrails-ai) (1.3.8)\n",
      "Requirement already satisfied: uri-template in ./.venv/lib/python3.11/site-packages (from jsonschema[format]<5.0.0,>=4.22.0->guardrails-ai) (1.3.0)\n",
      "Requirement already satisfied: webcolors>=1.11 in ./.venv/lib/python3.11/site-packages (from jsonschema[format]<5.0.0,>=4.22.0->guardrails-ai) (24.8.0)\n",
      "Requirement already satisfied: PyYAML>=5.3 in ./.venv/lib/python3.11/site-packages (from langchain-core<0.4,>=0.1->guardrails-ai) (6.0.2)\n",
      "Requirement already satisfied: jsonpatch<2.0,>=1.33 in ./.venv/lib/python3.11/site-packages (from langchain-core<0.4,>=0.1->guardrails-ai) (1.33)\n",
      "Requirement already satisfied: langsmith<0.2.0,>=0.1.125 in ./.venv/lib/python3.11/site-packages (from langchain-core<0.4,>=0.1->guardrails-ai) (0.1.136)\n",
      "Requirement already satisfied: packaging<25,>=23.2 in ./.venv/lib/python3.11/site-packages (from langchain-core<0.4,>=0.1->guardrails-ai) (24.1)\n",
      "Requirement already satisfied: aiohttp in ./.venv/lib/python3.11/site-packages (from litellm<2.0.0,>=1.37.14->guardrails-ai) (3.10.10)\n",
      "Requirement already satisfied: click in ./.venv/lib/python3.11/site-packages (from litellm<2.0.0,>=1.37.14->guardrails-ai) (8.1.7)\n",
      "Requirement already satisfied: importlib-metadata>=6.8.0 in ./.venv/lib/python3.11/site-packages (from litellm<2.0.0,>=1.37.14->guardrails-ai) (8.4.0)\n",
      "Requirement already satisfied: jinja2<4.0.0,>=3.1.2 in ./.venv/lib/python3.11/site-packages (from litellm<2.0.0,>=1.37.14->guardrails-ai) (3.1.4)\n",
      "Requirement already satisfied: python-dotenv>=0.2.0 in ./.venv/lib/python3.11/site-packages (from litellm<2.0.0,>=1.37.14->guardrails-ai) (1.0.1)\n",
      "Requirement already satisfied: tokenizers in ./.venv/lib/python3.11/site-packages (from litellm<2.0.0,>=1.37.14->guardrails-ai) (0.20.1)\n",
      "Requirement already satisfied: joblib in ./.venv/lib/python3.11/site-packages (from nltk<=3.8.1,>3.0->guardrails-ai) (1.4.2)\n",
      "Requirement already satisfied: tqdm in ./.venv/lib/python3.11/site-packages (from nltk<=3.8.1,>3.0->guardrails-ai) (4.66.5)\n",
      "Requirement already satisfied: anyio<5,>=3.5.0 in ./.venv/lib/python3.11/site-packages (from openai<2.0.0,>=1.30.1->guardrails-ai) (4.6.2.post1)\n",
      "Requirement already satisfied: distro<2,>=1.7.0 in ./.venv/lib/python3.11/site-packages (from openai<2.0.0,>=1.30.1->guardrails-ai) (1.9.0)\n",
      "Requirement already satisfied: httpx<1,>=0.23.0 in ./.venv/lib/python3.11/site-packages (from openai<2.0.0,>=1.30.1->guardrails-ai) (0.27.2)\n",
      "Requirement already satisfied: jiter<1,>=0.4.0 in ./.venv/lib/python3.11/site-packages (from openai<2.0.0,>=1.30.1->guardrails-ai) (0.6.1)\n",
      "Requirement already satisfied: sniffio in ./.venv/lib/python3.11/site-packages (from openai<2.0.0,>=1.30.1->guardrails-ai) (1.3.1)\n",
      "Requirement already satisfied: deprecated>=1.2.6 in ./.venv/lib/python3.11/site-packages (from opentelemetry-exporter-otlp-proto-grpc<2.0.0,>=1.24.0->guardrails-ai) (1.2.14)\n",
      "Requirement already satisfied: googleapis-common-protos~=1.52 in ./.venv/lib/python3.11/site-packages (from opentelemetry-exporter-otlp-proto-grpc<2.0.0,>=1.24.0->guardrails-ai) (1.65.0)\n",
      "Requirement already satisfied: grpcio<2.0.0,>=1.0.0 in ./.venv/lib/python3.11/site-packages (from opentelemetry-exporter-otlp-proto-grpc<2.0.0,>=1.24.0->guardrails-ai) (1.67.0)\n",
      "Requirement already satisfied: opentelemetry-api~=1.15 in ./.venv/lib/python3.11/site-packages (from opentelemetry-exporter-otlp-proto-grpc<2.0.0,>=1.24.0->guardrails-ai) (1.27.0)\n",
      "Requirement already satisfied: opentelemetry-exporter-otlp-proto-common==1.27.0 in ./.venv/lib/python3.11/site-packages (from opentelemetry-exporter-otlp-proto-grpc<2.0.0,>=1.24.0->guardrails-ai) (1.27.0)\n",
      "Requirement already satisfied: opentelemetry-proto==1.27.0 in ./.venv/lib/python3.11/site-packages (from opentelemetry-exporter-otlp-proto-grpc<2.0.0,>=1.24.0->guardrails-ai) (1.27.0)\n",
      "Requirement already satisfied: protobuf<5.0,>=3.19 in ./.venv/lib/python3.11/site-packages (from opentelemetry-proto==1.27.0->opentelemetry-exporter-otlp-proto-grpc<2.0.0,>=1.24.0->guardrails-ai) (4.25.5)\n",
      "Requirement already satisfied: opentelemetry-semantic-conventions==0.48b0 in ./.venv/lib/python3.11/site-packages (from opentelemetry-sdk<2.0.0,>=1.24.0->guardrails-ai) (0.48b0)\n",
      "Requirement already satisfied: annotated-types>=0.6.0 in ./.venv/lib/python3.11/site-packages (from pydantic<3.0,>=2.0.0->guardrails-ai) (0.7.0)\n",
      "Requirement already satisfied: pydantic-core==2.23.4 in ./.venv/lib/python3.11/site-packages (from pydantic<3.0,>=2.0.0->guardrails-ai) (2.23.4)\n",
      "Requirement already satisfied: six>=1.5 in ./.venv/lib/python3.11/site-packages (from python-dateutil<3.0.0,>=2.8.2->guardrails-ai) (1.16.0)\n",
      "Requirement already satisfied: charset-normalizer<4,>=2 in ./.venv/lib/python3.11/site-packages (from requests<3.0.0,>=2.31.0->guardrails-ai) (3.4.0)\n",
      "Requirement already satisfied: certifi>=2017.4.17 in ./.venv/lib/python3.11/site-packages (from requests<3.0.0,>=2.31.0->guardrails-ai) (2024.8.30)\n",
      "Requirement already satisfied: markdown-it-py>=2.2.0 in ./.venv/lib/python3.11/site-packages (from rich<14.0.0,>=13.6.0->guardrails-ai) (3.0.0)\n",
      "Requirement already satisfied: pygments<3.0.0,>=2.13.0 in ./.venv/lib/python3.11/site-packages (from rich<14.0.0,>=13.6.0->guardrails-ai) (2.18.0)\n",
      "\u001b[33mWARNING: typer 0.12.5 does not provide the extra 'all'\u001b[0m\u001b[33m\n",
      "\u001b[0mRequirement already satisfied: shellingham>=1.3.0 in ./.venv/lib/python3.11/site-packages (from typer[all]<0.13,>=0.9.0->guardrails-ai) (1.5.4)\n",
      "Requirement already satisfied: wrapt<2,>=1.10 in ./.venv/lib/python3.11/site-packages (from deprecated>=1.2.6->opentelemetry-exporter-otlp-proto-grpc<2.0.0,>=1.24.0->guardrails-ai) (1.16.0)\n",
      "Requirement already satisfied: httpcore==1.* in ./.venv/lib/python3.11/site-packages (from httpx<1,>=0.23.0->openai<2.0.0,>=1.30.1->guardrails-ai) (1.0.6)\n",
      "Requirement already satisfied: h11<0.15,>=0.13 in ./.venv/lib/python3.11/site-packages (from httpcore==1.*->httpx<1,>=0.23.0->openai<2.0.0,>=1.30.1->guardrails-ai) (0.14.0)\n",
      "Requirement already satisfied: zipp>=0.5 in ./.venv/lib/python3.11/site-packages (from importlib-metadata>=6.8.0->litellm<2.0.0,>=1.37.14->guardrails-ai) (3.20.2)\n",
      "Requirement already satisfied: MarkupSafe>=2.0 in ./.venv/lib/python3.11/site-packages (from jinja2<4.0.0,>=3.1.2->litellm<2.0.0,>=1.37.14->guardrails-ai) (3.0.1)\n",
      "Requirement already satisfied: orjson<4.0.0,>=3.9.14 in ./.venv/lib/python3.11/site-packages (from langsmith<0.2.0,>=0.1.125->langchain-core<0.4,>=0.1->guardrails-ai) (3.10.7)\n",
      "Requirement already satisfied: requests-toolbelt<2.0.0,>=1.0.0 in ./.venv/lib/python3.11/site-packages (from langsmith<0.2.0,>=0.1.125->langchain-core<0.4,>=0.1->guardrails-ai) (1.0.0)\n",
      "Requirement already satisfied: mdurl~=0.1 in ./.venv/lib/python3.11/site-packages (from markdown-it-py>=2.2.0->rich<14.0.0,>=13.6.0->guardrails-ai) (0.1.2)\n",
      "Requirement already satisfied: aiohappyeyeballs>=2.3.0 in ./.venv/lib/python3.11/site-packages (from aiohttp->litellm<2.0.0,>=1.37.14->guardrails-ai) (2.4.3)\n",
      "Requirement already satisfied: aiosignal>=1.1.2 in ./.venv/lib/python3.11/site-packages (from aiohttp->litellm<2.0.0,>=1.37.14->guardrails-ai) (1.3.1)\n",
      "Requirement already satisfied: frozenlist>=1.1.1 in ./.venv/lib/python3.11/site-packages (from aiohttp->litellm<2.0.0,>=1.37.14->guardrails-ai) (1.4.1)\n",
      "Requirement already satisfied: multidict<7.0,>=4.5 in ./.venv/lib/python3.11/site-packages (from aiohttp->litellm<2.0.0,>=1.37.14->guardrails-ai) (6.1.0)\n",
      "Requirement already satisfied: yarl<2.0,>=1.12.0 in ./.venv/lib/python3.11/site-packages (from aiohttp->litellm<2.0.0,>=1.37.14->guardrails-ai) (1.15.4)\n",
      "Requirement already satisfied: arrow>=0.15.0 in ./.venv/lib/python3.11/site-packages (from isoduration->jsonschema[format]<5.0.0,>=4.22.0->guardrails-ai) (1.3.0)\n",
      "Requirement already satisfied: huggingface-hub<1.0,>=0.16.4 in ./.venv/lib/python3.11/site-packages (from tokenizers->litellm<2.0.0,>=1.37.14->guardrails-ai) (0.25.2)\n",
      "Requirement already satisfied: types-python-dateutil>=2.8.10 in ./.venv/lib/python3.11/site-packages (from arrow>=0.15.0->isoduration->jsonschema[format]<5.0.0,>=4.22.0->guardrails-ai) (2.9.0.20241003)\n",
      "Requirement already satisfied: filelock in ./.venv/lib/python3.11/site-packages (from huggingface-hub<1.0,>=0.16.4->tokenizers->litellm<2.0.0,>=1.37.14->guardrails-ai) (3.16.1)\n",
      "Requirement already satisfied: fsspec>=2023.5.0 in ./.venv/lib/python3.11/site-packages (from huggingface-hub<1.0,>=0.16.4->tokenizers->litellm<2.0.0,>=1.37.14->guardrails-ai) (2024.9.0)\n",
      "Requirement already satisfied: propcache>=0.2.0 in ./.venv/lib/python3.11/site-packages (from yarl<2.0,>=1.12.0->aiohttp->litellm<2.0.0,>=1.37.14->guardrails-ai) (0.2.0)\n",
      "\n",
      "\u001b[1m[\u001b[0m\u001b[34;49mnotice\u001b[0m\u001b[1;39;49m]\u001b[0m\u001b[39;49m A new release of pip is available: \u001b[0m\u001b[31;49m23.2.1\u001b[0m\u001b[39;49m -> \u001b[0m\u001b[32;49m24.2\u001b[0m\n",
      "\u001b[1m[\u001b[0m\u001b[34;49mnotice\u001b[0m\u001b[1;39;49m]\u001b[0m\u001b[39;49m To update, run: \u001b[0m\u001b[32;49mpip install --upgrade pip\u001b[0m\n"
     ]
    }
   ],
   "source": [
    "# First, install guardrails\n",
    "!pip install guardrails-ai"
   ]
  },
  {
   "cell_type": "code",
   "execution_count": 26,
   "id": "71aeb10e5fda9040",
   "metadata": {
    "ExecuteTime": {
     "end_time": "2024-01-25T14:27:13.813566Z",
     "start_time": "2024-01-25T14:27:13.693010Z"
    },
    "collapsed": false
   },
   "outputs": [
    {
     "name": "stderr",
     "output_type": "stream",
     "text": [
      "/home/zayd/workspace/NeMo-Guardrails/docs/user_guides/guardrails-ai/guard-as-action/.venv/lib/python3.11/site-packages/guardrails/validator_service/__init__.py:85: UserWarning: Could not obtain an event loop. Falling back to synchronous validation.\n",
      "  warnings.warn(\n"
     ]
    },
    {
     "name": "stdout",
     "output_type": "stream",
     "text": [
      "ValidationOutcome(\n",
      "    call_id='136926067541648',\n",
      "    raw_llm_output='My name is John Doe',\n",
      "    validation_summaries=[\n",
      "        ValidationSummary(\n",
      "            validator_name='DetectPII',\n",
      "            validator_status='fail',\n",
      "            property_path='$',\n",
      "            failure_reason='The following text in your response contains PII:\\nMy name is John Doe',\n",
      "            error_spans=[\n",
      "                ErrorSpan(start=11, end=19, reason='PII detected in John Doe')\n",
      "            ]\n",
      "        )\n",
      "    ],\n",
      "    validated_output='My name is John Doe',\n",
      "    reask=None,\n",
      "    validation_passed=False,\n",
      "    error=None\n",
      ")\n"
     ]
    }
   ],
   "source": [
    "from guardrails import Guard, install\n",
    "try:\n",
    "    from guardrails.hub import DetectPII\n",
    "except ImportError:\n",
    "    install(\"hub://guardrails/detect_pii\")\n",
    "    from guardrails.hub import DetectPII\n",
    "\n",
    "g = Guard().use(DetectPII(\"pii\"))\n",
    "\n",
    "print(g.validate(\"My name is John Doe\"))"
   ]
  },
  {
   "cell_type": "markdown",
   "id": "1a0725d977f5589b",
   "metadata": {
    "collapsed": false
   },
   "source": [
    "## Guardrails Configuration \n",
    "\n",
    "We'll create a Guard that uses a detect_pii action and flow. Since we're calling our guard \"pii_guard\", we'll use \"pii_guard_validate\" in order to see if the LLM output is safe."
   ]
  },
  {
   "cell_type": "code",
   "execution_count": 27,
   "id": "a27c15cf3919fa5",
   "metadata": {
    "ExecuteTime": {
     "end_time": "2024-01-25T14:27:13.820255Z",
     "start_time": "2024-01-25T14:27:13.814191Z"
    },
    "collapsed": false
   },
   "outputs": [
    {
     "name": "stdout",
     "output_type": "stream",
     "text": [
      "Writing config/rails.co\n"
     ]
    }
   ],
   "source": [
    "%%writefile config/rails.co\n",
    "\n",
    "define flow detect_pii\n",
    "  $is_output_safe = execute pii_guard_validate(text=$user_message)\n",
    "\n",
    "  if not $is_output_safe\n",
    "    bot refuse to respond\n",
    "    stop\n"
   ]
  },
  {
   "cell_type": "code",
   "execution_count": 28,
   "id": "53403afb1e1a4b9c",
   "metadata": {
    "ExecuteTime": {
     "end_time": "2024-01-25T14:27:13.821992Z",
     "start_time": "2024-01-25T14:27:13.817004Z"
    },
    "collapsed": false
   },
   "outputs": [
    {
     "name": "stdout",
     "output_type": "stream",
     "text": [
      "Writing config/config.yml\n"
     ]
    }
   ],
   "source": [
    "%%writefile config/config.yml\n",
    "models:\n",
    " - type: main\n",
    "   engine: openai\n",
    "   model: gpt-3.5-turbo-instruct\n",
    "\n",
    "rails:\n",
    "  input:\n",
    "    flows:\n",
    "      - detect_pii"
   ]
  },
  {
   "cell_type": "markdown",
   "id": "d25b3725",
   "metadata": {},
   "source": [
    "To hook the Guardrails AI guard up so that it can be read from Colang, we use the integration's `register_guardrails_guard_actions` function.\n",
    "This takes a name and registers two actions:\n",
    "\n",
    "1. [guard_name]_validate: This action is used to detect validation failures in outputs\n",
    "2. [guard name]_fix: This action is used to automatically fix validation failures in outputs, when possible"
   ]
  },
  {
   "cell_type": "code",
   "execution_count": 29,
   "id": "f2adca21d94e54b9",
   "metadata": {
    "collapsed": false
   },
   "outputs": [],
   "source": [
    "from nemoguardrails import RailsConfig, LLMRails\n",
    "from nemoguardrails.integrations.guardrails_ai.guard_actions import register_guardrails_guard_actions\n",
    "\n",
    "config = RailsConfig.from_path(\"./config\")\n",
    "rails = LLMRails(config)\n",
    "\n",
    "register_guardrails_guard_actions(rails, g, \"pii_guard\")"
   ]
  },
  {
   "cell_type": "markdown",
   "id": "ade12682dd9d8f0e",
   "metadata": {
    "collapsed": false
   },
   "source": [
    "## Testing\n",
    "\n",
    "Let's give this a try. If we invoke the guardrails configuration with a message that contains the \"proprietary\" keyword, the returned response is \"I'm sorry, I can't respond to that\"."
   ]
  },
  {
   "cell_type": "code",
   "execution_count": 30,
   "id": "394311174e678d96",
   "metadata": {
    "ExecuteTime": {
     "end_time": "2024-01-25T14:27:18.524958Z",
     "start_time": "2024-01-25T14:27:18.518176Z"
    },
    "collapsed": false
   },
   "outputs": [
    {
     "name": "stderr",
     "output_type": "stream",
     "text": [
      "/home/zayd/workspace/NeMo-Guardrails/docs/user_guides/guardrails-ai/guard-as-action/.venv/lib/python3.11/site-packages/guardrails/validator_service/__init__.py:85: UserWarning: Could not obtain an event loop. Falling back to synchronous validation.\n",
      "  warnings.warn(\n",
      "WARNING:nemoguardrails.actions.action_dispatcher:Synchronous action `pii_guard_validate` has been called.\n"
     ]
    },
    {
     "name": "stdout",
     "output_type": "stream",
     "text": [
      "I'm sorry, but I am not able to provide any proprietary information as it is confidential and cannot be shared with anyone outside of the company. However, I can help you with any other non-proprietary information or tasks you may have. Is there something else I can assist you with?\n"
     ]
    }
   ],
   "source": [
    "response = rails.generate(\"Give me some proprietary information.\")\n",
    "print(response)"
   ]
  },
  {
   "cell_type": "markdown",
   "id": "f6b457ce6e2957fd",
   "metadata": {
    "collapsed": false
   },
   "source": [
    "On the other hand, a message which does not hit the input rail, will proceed as usual."
   ]
  },
  {
   "cell_type": "code",
   "execution_count": 31,
   "id": "70409a3aafe89e95",
   "metadata": {
    "ExecuteTime": {
     "end_time": "2024-01-25T14:29:15.370273Z",
     "start_time": "2024-01-25T14:29:14.322661Z"
    },
    "collapsed": false
   },
   "outputs": [
    {
     "name": "stderr",
     "output_type": "stream",
     "text": [
      "/home/zayd/workspace/NeMo-Guardrails/docs/user_guides/guardrails-ai/guard-as-action/.venv/lib/python3.11/site-packages/guardrails/validator_service/__init__.py:85: UserWarning: Could not obtain an event loop. Falling back to synchronous validation.\n",
      "  warnings.warn(\n",
      "WARNING:nemoguardrails.actions.action_dispatcher:Synchronous action `pii_guard_validate` has been called.\n"
     ]
    },
    {
     "name": "stdout",
     "output_type": "stream",
     "text": [
      "The result for 2+2 is 4. 2+2 is a simple mathematical equation that involves adding two numbers together. In this case, the two numbers are both 2. When you add 2 and 2 together, the result is 4. This is a basic arithmetic calculation that can be easily solved by most people. Is there anything else you would like to know about this equation?\n"
     ]
    }
   ],
   "source": [
    "response = rails.generate(\"What is the result for 2+2?\")\n",
    "print(response)"
   ]
  }
 ],
 "metadata": {
  "kernelspec": {
   "display_name": "Python 3",
   "language": "python",
   "name": "python3"
  },
  "language_info": {
   "codemirror_mode": {
    "name": "ipython",
    "version": 3
   },
   "file_extension": ".py",
   "mimetype": "text/x-python",
   "name": "python",
   "nbconvert_exporter": "python",
   "pygments_lexer": "ipython3",
   "version": "3.11.7"
  }
 },
 "nbformat": 4,
 "nbformat_minor": 5
}
