{
 "cells": [
  {
   "cell_type": "markdown",
   "source": [
    "**⚠️THIS SECTION IS WORK IN PROGRESS. ⚠️**\n",
    "\n",
    "# Retrieval-Augmented Generation\n",
    "\n",
    "This guide will teach you how to apply a guardrails configuration in a RAG scenario.  "
   ],
   "metadata": {
    "collapsed": false
   },
   "id": "4f741799e60ff1ae"
  },
  {
   "cell_type": "markdown",
   "source": [
    "\n"
   ],
   "metadata": {
    "collapsed": false
   },
   "id": "4f923f9cfe9e8f0f"
  }
 ],
 "metadata": {
  "kernelspec": {
   "display_name": "Python 3",
   "language": "python",
   "name": "python3"
  },
  "language_info": {
   "codemirror_mode": {
    "name": "ipython",
    "version": 2
   },
   "file_extension": ".py",
   "mimetype": "text/x-python",
   "name": "python",
   "nbconvert_exporter": "python",
   "pygments_lexer": "ipython2",
   "version": "2.7.6"
  }
 },
 "nbformat": 4,
 "nbformat_minor": 5
}
