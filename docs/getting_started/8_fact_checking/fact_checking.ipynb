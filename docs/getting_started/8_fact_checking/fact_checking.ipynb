{
 "cells": [
  {
   "cell_type": "markdown",
   "source": [
    "**⚠️THIS SECTION IS WORK IN PROGRESS. ⚠️**\n",
    "\n",
    "# Fact-checking\n"
   ],
   "metadata": {
    "collapsed": false
   },
   "id": "c3b6f6e68cbb3ec2"
  }
 ],
 "metadata": {
  "kernelspec": {
   "display_name": "Python 3",
   "language": "python",
   "name": "python3"
  },
  "language_info": {
   "codemirror_mode": {
    "name": "ipython",
    "version": 2
   },
   "file_extension": ".py",
   "mimetype": "text/x-python",
   "name": "python",
   "nbconvert_exporter": "python",
   "pygments_lexer": "ipython2",
   "version": "2.7.6"
  }
 },
 "nbformat": 4,
 "nbformat_minor": 5
}
