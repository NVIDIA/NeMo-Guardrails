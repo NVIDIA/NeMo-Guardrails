{
 "cells": [
  {
   "cell_type": "markdown",
   "source": [
    "# Demo Use Case\n",
    "\n",
    "This topic describes a use case used in the remaining guide topics. The use case defines a fictional company, *ABC Company*, with a bot, the *ABC Bot*, that assists employees by providing information on the organization's employee handbook and policies. The remaining topics in this guide use this example to explain a practical application of NeMo Guardrails.\n",
    "\n",
    "The following guide topics lead you through a step-by-step configuration process, addressing various challenges that might arise.\n",
    "\n",
    "1. [Input moderation](../4_input_rails): Verify that any user input is safe before proceeding. \n",
    "2. [Output moderation](../5_output_rails): Ensure that the bot's output is not offensive and does not include specific words. \n",
    "3. [Preventing off-topic questions](../6_topical_rails): Guarantee that the bot only responds to specific topics.\n",
    "4. [Retrieval augmented generation](../7_rag): Integrate external knowledge bases. \n",
    "\n",
    "## Next\n",
    "\n",
    "Start with adding [Input Moderation](../4_input_rails) to the ABC Bot."
   ],
   "metadata": {
    "collapsed": false
   }
  }
 ],
 "metadata": {
  "kernelspec": {
   "display_name": "Python 3",
   "language": "python",
   "name": "python3"
  },
  "language_info": {
   "codemirror_mode": {
    "name": "ipython",
    "version": 2
   },
   "file_extension": ".py",
   "mimetype": "text/x-python",
   "name": "python",
   "nbconvert_exporter": "python",
   "pygments_lexer": "ipython2",
   "version": "2.7.6"
  }
 },
 "nbformat": 4,
 "nbformat_minor": 0
}
