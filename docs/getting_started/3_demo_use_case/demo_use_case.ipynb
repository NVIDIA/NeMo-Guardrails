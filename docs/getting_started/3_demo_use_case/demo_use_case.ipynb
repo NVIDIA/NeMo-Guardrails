{
 "cells": [
  {
   "cell_type": "markdown",
   "source": [
    "# Demo Use Case\n",
    "\n",
    "Before moving further, let's pick a demo use case. Each month the US Bureau of Labor Statistics publishes an [Employment Situation Report](https://www.bls.gov/news.release/empsit.toc.htm). Let's assume we want to build an LLM-based conversational application that answers questions using data from this report. We'll call it an **InfoBot**. \n",
    "\n",
    "In the following guides, we will develop the guardrails configuration to cover various challenges we might face. If you're just getting started with NeMo Guardrails, it is recommended to go through them in order. Otherwise, you can jump to the guide that you are interested in. \n",
    "\n",
    "1. [Input moderation](../4_input_rails): make sure the input from the user is safe, before engaging with it. \n",
    "2. [Output moderation](../5_output_rails): make sure the output of the bot is not offensive and making sure it does not contain certain words. \n",
    "3. [Preventing off-topic questions](../6_topical_rails): make sure that the bot responds only to a specific set of topics.\n",
    "4. [Retrieval augmented generation](../7_rag): integrate an external knowledge base.\n",
    "5. [Fact-checking](../8_fact_checking): make sure the response is factually correct. \n",
    "6. [Calling external tools](../9_external_tools): call external tools, e.g. for math computations. \n",
    "\n",
    "## Next\n",
    "\n",
    "Next, we start with adding [Input Moderation](../4_input_rails) to the InfoBot."
   ],
   "metadata": {
    "collapsed": false
   }
  }
 ],
 "metadata": {
  "kernelspec": {
   "display_name": "Python 3",
   "language": "python",
   "name": "python3"
  },
  "language_info": {
   "codemirror_mode": {
    "name": "ipython",
    "version": 2
   },
   "file_extension": ".py",
   "mimetype": "text/x-python",
   "name": "python",
   "nbconvert_exporter": "python",
   "pygments_lexer": "ipython2",
   "version": "2.7.6"
  }
 },
 "nbformat": 4,
 "nbformat_minor": 0
}
