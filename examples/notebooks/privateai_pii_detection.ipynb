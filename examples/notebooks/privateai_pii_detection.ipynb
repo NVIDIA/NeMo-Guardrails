{
 "cells": [
  {
   "cell_type": "markdown",
   "metadata": {},
   "source": [
    "# Private AI PII detection example\n",
    "\n",
    "This notebook shows how to use Private AI for PII detection in NeMo Guardrails."
   ]
  },
  {
   "cell_type": "markdown",
   "metadata": {},
   "source": [
    "## Import libraries"
   ]
  },
  {
   "cell_type": "code",
   "execution_count": 2,
   "metadata": {},
   "outputs": [],
   "source": [
    "import nest_asyncio\n",
    "\n",
    "nest_asyncio.apply()"
   ]
  },
  {
   "cell_type": "code",
   "execution_count": 3,
   "metadata": {},
   "outputs": [],
   "source": [
    "from nemoguardrails import LLMRails, RailsConfig"
   ]
  },
  {
   "cell_type": "markdown",
   "metadata": {},
   "source": [
    "## Create rails with Private AI PII detection\n",
    "\n",
    "For this step you'll need your OpenAI API key & Private AI API key.\n",
    "\n",
    "You can get your Private AI API key by signing up on the [Private AI Portal](https://portal.private-ai.com). For more details on Private AI integration, check out this [user guide](../../docs/user_guides/community/privateai.md).\n",
    "\n",
    "\n"
   ]
  },
  {
   "cell_type": "code",
   "execution_count": null,
   "metadata": {},
   "outputs": [],
   "source": [
    "YAML_CONFIG = \"\"\"\n",
    "models:\n",
    "  - type: main\n",
    "    engine: openai\n",
    "    model: gpt-3.5-turbo-instruct\n",
    "\n",
    "rails:\n",
    "  config:\n",
    "    privateai:\n",
    "      server_endpoint: https://api.private-ai.com/cloud/v3/process/text\n",
    "      api_key: <YOUR_API_KEY>\n",
    "      input:\n",
    "        entities:\n",
    "          - NAME_FAMILY\n",
    "          - LOCATION_ADDRESS_STREET\n",
    "          - EMAIL_ADDRESS\n",
    "      output:\n",
    "        entities:\n",
    "          - NAME_FAMILY\n",
    "          - LOCATION_ADDRESS_STREET\n",
    "          - EMAIL_ADDRESS\n",
    "  input:\n",
    "    flows:\n",
    "      - detect pii on input\n",
    "\n",
    "  output:\n",
    "    flows:\n",
    "      - detect pii on output\n",
    "\"\"\"\n",
    "\n",
    "\n",
    "\n",
    "config = RailsConfig.from_content(yaml_content=YAML_CONFIG)\n",
    "rails = LLMRails(config)"
   ]
  },
  {
   "cell_type": "markdown",
   "metadata": {},
   "source": [
    "## Input rails"
   ]
  },
  {
   "cell_type": "code",
   "execution_count": null,
   "metadata": {},
   "outputs": [],
   "source": [
    "response = rails.generate(messages=[{\"role\": \"user\", \"content\": \"Hello! I'm John. My email id is text@gmail.com. I live in California, USA.\"}])\n",
    "\n",
    "info = rails.explain()\n",
    "\n",
    "print(\"Response\")\n",
    "print(\"----------------------------------------\")\n",
    "print(response[\"content\"])\n",
    "\n",
    "\n",
    "print(\"\\n\\nColang history\")\n",
    "print(\"----------------------------------------\")\n",
    "print(info.colang_history)\n",
    "\n",
    "print(\"\\n\\nLLM calls summary\")\n",
    "print(\"----------------------------------------\")\n",
    "info.print_llm_calls_summary()"
   ]
  },
  {
   "cell_type": "markdown",
   "metadata": {},
   "source": [
    "## Output rails"
   ]
  },
  {
   "cell_type": "code",
   "execution_count": null,
   "metadata": {},
   "outputs": [],
   "source": [
    "response = rails.generate(messages=[{\"role\": \"user\", \"content\": \"give me a sample email id\"}])\n",
    "\n",
    "info = rails.explain()\n",
    "\n",
    "print(\"Response\")\n",
    "print(\"----------------------------------------\\n\\n\")\n",
    "print(response[\"content\"])\n",
    "\n",
    "\n",
    "print(\"\\n\\nColang history\")\n",
    "print(\"----------------------------------------\")\n",
    "print(info.colang_history)\n",
    "\n",
    "print(\"\\n\\nLLM calls summary\")\n",
    "print(\"----------------------------------------\")\n",
    "info.print_llm_calls_summary()\n",
    "\n",
    "\n",
    "print(\"\\n\\nCompletions where PII was detected!\")\n",
    "print(\"----------------------------------------\")\n",
    "print(info.llm_calls[0].completion)"
   ]
  }
 ],
 "metadata": {
  "kernelspec": {
   "display_name": "nemo",
   "language": "python",
   "name": "python3"
  },
  "language_info": {
   "codemirror_mode": {
    "name": "ipython",
    "version": 3
   },
   "file_extension": ".py",
   "mimetype": "text/x-python",
   "name": "python",
   "nbconvert_exporter": "python",
   "pygments_lexer": "ipython3",
   "version": "3.10.15"
  }
 },
 "nbformat": 4,
 "nbformat_minor": 2
}
